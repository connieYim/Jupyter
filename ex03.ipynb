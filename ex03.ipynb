{
 "cells": [
  {
   "cell_type": "code",
   "execution_count": 2,
   "id": "bbbe0796",
   "metadata": {},
   "outputs": [
    {
     "name": "stdout",
     "output_type": "stream",
     "text": [
      "이름 : 이순신, 나이 : 46 세\n"
     ]
    }
   ],
   "source": [
    "'''\n",
    "이름 : 이순신, 나이 : 46 세\n",
    "'''\n",
    "print('이름 : 이순신, 나이 : 46 세')\n",
    "\n",
    "name = '이순신'\n",
    "age  = 46\n",
    "\n",
    "'''\n",
    "1) %-formatting (print formatting)\n",
    "2) str.format() 메소드\n",
    "3) f-string\n",
    "'''"
   ]
  },
  {
   "cell_type": "code",
   "execution_count": 5,
   "id": "46835198",
   "metadata": {},
   "outputs": [
    {
     "name": "stdout",
     "output_type": "stream",
     "text": [
      "이름 : 이순신, 나이 : 46 세\n",
      "이름 : 이순신, 나이 : 46 세\n"
     ]
    }
   ],
   "source": [
    "'''\n",
    "1) %-formatting (print formatting)\n",
    "이름 : 이순신, 나이 : 46 세\n",
    " format-specifier\n",
    "     ㄴ % : 양식(서식)문자 (format specifier)\n",
    "     \n",
    "서식문자\n",
    "%s 문자열(String)\n",
    "%d 정수(Integer)\n",
    "%f 실수 - 부동소수점(floating-point)\n",
    "%o 8진수\n",
    "%x 16진수\n",
    "%% Literal % (문자 % 자체)\n",
    "%b  2진수\n",
    " \n",
    "''' \n",
    "print('이름 : 이순신, 나이 : 46 세')\n",
    "print('이름 : %s, 나이 : %d 세' % (name, age))"
   ]
  },
  {
   "cell_type": "code",
   "execution_count": 10,
   "id": "aac2bc4a",
   "metadata": {},
   "outputs": [
    {
     "name": "stdout",
     "output_type": "stream",
     "text": [
      "이름 : 이순신, 나이 : 46 세\n",
      "이름 : 이순신, 나이 : 46 세\n",
      "나이 : 이순신 세, 이름 : 46\n",
      "나이 : 이순신 세, 이름 : 46\n",
      "나이 : 46 세, 이름 : 이순신\n"
     ]
    }
   ],
   "source": [
    "'''\n",
    "2) str.format() 메소드\n",
    "'''\n",
    "print('이름 : {}, 나이 : {} 세'.format(name, age))\n",
    "print('이름 : {0}, 나이 : {1} 세'.format(name, age))\n",
    "print('나이 : {} 세, 이름 : {}'.format(name, age))\n",
    "print('나이 : {0} 세, 이름 : {1}'.format(name, age))\n",
    "print('나이 : {1} 세, 이름 : {0}'.format(name, age))"
   ]
  },
  {
   "cell_type": "code",
   "execution_count": 11,
   "id": "9fa8ef15",
   "metadata": {
    "scrolled": true
   },
   "outputs": [
    {
     "name": "stdout",
     "output_type": "stream",
     "text": [
      "이름 : 이순신, 나이 : 46 세\n"
     ]
    }
   ],
   "source": [
    "'''\n",
    "3) f-string\n",
    "'''\n",
    "print(f'이름 : {name}, 나이 : {age} 세')"
   ]
  },
  {
   "cell_type": "code",
   "execution_count": 12,
   "id": "a7407539",
   "metadata": {},
   "outputs": [
    {
     "name": "stdout",
     "output_type": "stream",
     "text": [
      "이름 : 이순신, 나이 : 46 세\n",
      "이름 : 이순신, 나이 : 46 세\n",
      "이름 : 이순신, 나이 : 46 세\n"
     ]
    }
   ],
   "source": [
    "print('이름 : %s, 나이 : %d 세' % (name, age))\n",
    "print('이름 : {}, 나이 : {} 세'.format(name, age))\n",
    "print(f'이름 : {name}, 나이 : {age} 세')"
   ]
  },
  {
   "cell_type": "code",
   "execution_count": null,
   "id": "198f192a",
   "metadata": {},
   "outputs": [],
   "source": []
  }
 ],
 "metadata": {
  "kernelspec": {
   "display_name": "Python 3 (ipykernel)",
   "language": "python",
   "name": "python3"
  },
  "language_info": {
   "codemirror_mode": {
    "name": "ipython",
    "version": 3
   },
   "file_extension": ".py",
   "mimetype": "text/x-python",
   "name": "python",
   "nbconvert_exporter": "python",
   "pygments_lexer": "ipython3",
   "version": "3.10.9"
  }
 },
 "nbformat": 4,
 "nbformat_minor": 5
}
