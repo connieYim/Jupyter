{
 "cells": [
  {
   "cell_type": "code",
   "execution_count": null,
   "id": "4ec43d38",
   "metadata": {
    "scrolled": true
   },
   "outputs": [],
   "source": [
    "'''\n",
    "FinanceDataReader 라이브러리 사용하기\n",
    "  ㄴ 한국 주식 가격, 미국 주식 가격, 지수, 환율, 암호화폐 가격,\n",
    "     종목 리스트 등 금융 데이터 수집 라이브러리\n",
    "'''\n",
    "# 설치하기\n",
    "# !pip install -U finance-datareader"
   ]
  },
  {
   "cell_type": "code",
   "execution_count": null,
   "id": "edafc597",
   "metadata": {
    "scrolled": true
   },
   "outputs": [],
   "source": [
    "import FinanceDataReader as fdr\n",
    "print(fdr.__version__)"
   ]
  },
  {
   "cell_type": "code",
   "execution_count": null,
   "id": "51408191",
   "metadata": {
    "scrolled": true
   },
   "outputs": [],
   "source": [
    "import pandas as pd\n",
    "import numpy as np\n",
    "\n",
    "krx_df = pd.read_csv('https://raw.githubusercontent.com/corazzon/finance-data-analysis/main/krx.csv')\n",
    "krx_df.shape"
   ]
  },
  {
   "cell_type": "code",
   "execution_count": null,
   "id": "5081de3c",
   "metadata": {
    "scrolled": true
   },
   "outputs": [],
   "source": [
    "'''\n",
    "한국 거래소 상장 종목 전체\n",
    "'''\n",
    "krx_df[:15]"
   ]
  },
  {
   "cell_type": "code",
   "execution_count": null,
   "id": "08cb9145",
   "metadata": {
    "scrolled": true
   },
   "outputs": [],
   "source": [
    "krx_df.info()"
   ]
  },
  {
   "cell_type": "code",
   "execution_count": null,
   "id": "316fb56d",
   "metadata": {
    "scrolled": true
   },
   "outputs": [],
   "source": [
    "krx_df.describe()"
   ]
  },
  {
   "cell_type": "code",
   "execution_count": null,
   "id": "33e8efc2",
   "metadata": {},
   "outputs": [],
   "source": [
    "'''\n",
    "DataFrame 을 csv 파일로 저장하기 : DataFrame 의 to_csv() 메소드\n",
    "\n",
    "krx_df.to_csv('csv 파일 이름 지정')\n",
    "'''\n",
    "krx_df.to_csv('krx.csv', index=False, encoding='cp949')"
   ]
  },
  {
   "cell_type": "code",
   "execution_count": null,
   "id": "13642b05",
   "metadata": {},
   "outputs": [],
   "source": [
    "pd.read_csv('krx.csv', encoding='cp949')"
   ]
  },
  {
   "cell_type": "code",
   "execution_count": null,
   "id": "55c27226",
   "metadata": {},
   "outputs": [],
   "source": [
    "krx_df.columns"
   ]
  },
  {
   "cell_type": "code",
   "execution_count": null,
   "id": "8e8c49af",
   "metadata": {},
   "outputs": [],
   "source": [
    "krx_df.values"
   ]
  },
  {
   "cell_type": "code",
   "execution_count": null,
   "id": "6923978a",
   "metadata": {},
   "outputs": [],
   "source": [
    "krx_df['Name']"
   ]
  },
  {
   "cell_type": "code",
   "execution_count": null,
   "id": "1ea4aea2",
   "metadata": {},
   "outputs": [],
   "source": [
    "# 여러 개의 column 가져오기\n",
    "krx_df[['Symbol', 'Name']][:6]"
   ]
  },
  {
   "cell_type": "code",
   "execution_count": null,
   "id": "742d498e",
   "metadata": {},
   "outputs": [],
   "source": [
    "# 여러 개의 row(행) 가져오기\n",
    "# krx_df[[0, 2, 4, 5]]\n",
    "\n",
    "krx_df[2:5]\n",
    "krx_df.iloc[[0, 2, 4, 5]]\n",
    "krx_df.loc[[0, 2, 4, 5]]"
   ]
  },
  {
   "cell_type": "code",
   "execution_count": null,
   "id": "a2011e9a",
   "metadata": {},
   "outputs": [],
   "source": [
    "krx_df[:20]"
   ]
  },
  {
   "cell_type": "code",
   "execution_count": null,
   "id": "c988036c",
   "metadata": {},
   "outputs": [],
   "source": [
    "krx_df.loc[[1, 2, 4, 7, 8], 'Name']"
   ]
  },
  {
   "cell_type": "code",
   "execution_count": null,
   "id": "07bbb9ff",
   "metadata": {},
   "outputs": [],
   "source": [
    "krx_df.iloc[[1, 2, 4, 7, 8], 2]"
   ]
  },
  {
   "cell_type": "code",
   "execution_count": null,
   "id": "c686c1b1",
   "metadata": {},
   "outputs": [],
   "source": [
    "krx_df.loc[[2, 4, 5, 7, 8 ], ['Symbol', 'Name']]"
   ]
  },
  {
   "cell_type": "code",
   "execution_count": null,
   "id": "6b2eb7d4",
   "metadata": {},
   "outputs": [],
   "source": [
    "'''\n",
    "상장사 이름이 NAVER 인 회사의 정보 조회하기\n",
    "'''\n",
    "krx_df[krx_df['Name']=='NAVER']\n"
   ]
  },
  {
   "cell_type": "code",
   "execution_count": null,
   "id": "520dd957",
   "metadata": {},
   "outputs": [],
   "source": [
    "'''\n",
    "서울특별시에 소재지를 두고 있는 \n",
    "             Region\n",
    "KOSPI 종목의 종목명과 심볼 가져오기\n",
    "     Market  Name     Symbol(종목코드)\n",
    "'''\n",
    "krx_df.columns"
   ]
  },
  {
   "cell_type": "code",
   "execution_count": null,
   "id": "0473f0dd",
   "metadata": {},
   "outputs": [],
   "source": [
    "krx_df[:6]"
   ]
  },
  {
   "cell_type": "code",
   "execution_count": null,
   "id": "695d5a18",
   "metadata": {},
   "outputs": [],
   "source": [
    "condition1 = krx_df['Region'] == '서울특별시'\n",
    "condition2 = krx_df['Market'] == 'KOSPI'\n",
    "\n",
    "krx_df[condition1 & condition2][['Name','Symbol']]\n",
    "\n",
    "'''\n",
    "loc[행, 열(컬럼)] 연산자\n",
    "loc[조건, 컬럼]\n",
    "'''\n",
    "krx_df.loc[condition1 & condition2, ['Name','Symbol']]"
   ]
  },
  {
   "cell_type": "code",
   "execution_count": null,
   "id": "524a4223",
   "metadata": {},
   "outputs": [],
   "source": [
    "krx_df.columns"
   ]
  },
  {
   "cell_type": "code",
   "execution_count": null,
   "id": "12f0196e",
   "metadata": {},
   "outputs": [],
   "source": [
    "krx_df.info()"
   ]
  },
  {
   "cell_type": "code",
   "execution_count": 55,
   "id": "12351b11",
   "metadata": {},
   "outputs": [
    {
     "data": {
      "text/plain": [
       "ListingDate    datetime64[ns]\n",
       "ListingYear           float64\n",
       "dtype: object"
      ]
     },
     "execution_count": 55,
     "metadata": {},
     "output_type": "execute_result"
    }
   ],
   "source": [
    "'''\n",
    "상장일(ListingDate) 의 dtype 을 datetime type 으로 변환하기\n",
    "'''\n",
    "krx_df['ListingDate'] = pd.to_datetime(krx_df['ListingDate'])\n",
    "\n",
    "'''\n",
    "컬럼을 datetime type 으로 변환하면\n",
    "dt. 속성으로 접근해서 세부 정보를 얻을 수 있음\n",
    "                      년월일시분초\n",
    "'''\n",
    "# 'ListingYear' 라는 컬럼을 새로 만들고\n",
    "# krx_df['ListingDate']  에서 년도 정보 추출해서\n",
    "# 'ListingYear' 라는 컬럼에 할당하기\n",
    "krx_df['ListingYear'] = krx_df['ListingDate'].dt.year\n",
    "\n",
    "krx_df[['ListingDate', 'ListingYear']]\n",
    "\n",
    "krx_df[['ListingDate', 'ListingYear']].dtypes"
   ]
  },
  {
   "cell_type": "code",
   "execution_count": null,
   "id": "8995e8fe",
   "metadata": {},
   "outputs": [],
   "source": []
  },
  {
   "cell_type": "code",
   "execution_count": null,
   "id": "6877cdf6",
   "metadata": {},
   "outputs": [],
   "source": []
  }
 ],
 "metadata": {
  "kernelspec": {
   "display_name": "Python 3 (ipykernel)",
   "language": "python",
   "name": "python3"
  },
  "language_info": {
   "codemirror_mode": {
    "name": "ipython",
    "version": 3
   },
   "file_extension": ".py",
   "mimetype": "text/x-python",
   "name": "python",
   "nbconvert_exporter": "python",
   "pygments_lexer": "ipython3",
   "version": "3.10.9"
  }
 },
 "nbformat": 4,
 "nbformat_minor": 5
}
