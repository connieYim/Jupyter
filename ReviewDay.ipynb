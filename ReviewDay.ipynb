{
 "cells": [
  {
   "cell_type": "markdown",
   "id": "44d49afd",
   "metadata": {},
   "source": [
    "# markDown\n",
    "## markDown\n",
    "###markDown"
   ]
  },
  {
   "cell_type": "code",
   "execution_count": 5,
   "id": "5737c322",
   "metadata": {},
   "outputs": [],
   "source": [
    "name ='connie'\n",
    "age='48'\n",
    "height=163\n",
    "weight=56\n",
    "address='YDP'\n",
    "hobby='thinking'\n",
    "univ='SunCheonUniv'"
   ]
  },
  {
   "cell_type": "code",
   "execution_count": 6,
   "id": "5158cb26",
   "metadata": {},
   "outputs": [
    {
     "name": "stdout",
     "output_type": "stream",
     "text": [
      "connie\n",
      "48\n",
      "163\n",
      "56\n",
      "YDP\n",
      "thinking\n",
      "SunCheonUniv\n"
     ]
    }
   ],
   "source": [
    "print(name)\n",
    "print(age)\n",
    "print(height)\n",
    "print(weight)\n",
    "print(address)\n",
    "print(hobby)\n",
    "print(univ)\n"
   ]
  },
  {
   "cell_type": "code",
   "execution_count": 5,
   "id": "b82b6088",
   "metadata": {},
   "outputs": [
    {
     "name": "stdout",
     "output_type": "stream",
     "text": [
      "140\n"
     ]
    }
   ],
   "source": [
    "number_8 = 0o214\n",
    "print(number_8)"
   ]
  },
  {
   "cell_type": "code",
   "execution_count": 7,
   "id": "2a745054",
   "metadata": {},
   "outputs": [
    {
     "name": "stdout",
     "output_type": "stream",
     "text": [
      "35\n"
     ]
    }
   ],
   "source": [
    "number_16=0x23\n",
    "print(number_16)"
   ]
  },
  {
   "cell_type": "code",
   "execution_count": 9,
   "id": "40582614",
   "metadata": {},
   "outputs": [
    {
     "name": "stdout",
     "output_type": "stream",
     "text": [
      "4\n"
     ]
    }
   ],
   "source": [
    "number_2=0b100\n",
    "print(number_2)"
   ]
  },
  {
   "cell_type": "code",
   "execution_count": 10,
   "id": "d9207363",
   "metadata": {},
   "outputs": [
    {
     "name": "stdout",
     "output_type": "stream",
     "text": [
      "오늘 전경련 중장년 '재취업' 특강이 있었다 \n"
     ]
    }
   ],
   "source": [
    "print('오늘 전경련 중장년 \\'재취업\\' 특강이 있었다 ')"
   ]
  },
  {
   "cell_type": "code",
   "execution_count": 11,
   "id": "4d2dfb97",
   "metadata": {},
   "outputs": [
    {
     "name": "stdout",
     "output_type": "stream",
     "text": [
      "It was good to know \n",
      " where to go \n",
      "to apply a foreign company\n"
     ]
    }
   ],
   "source": [
    "print('It was good to know \\n where to go \\nto apply a foreign company')"
   ]
  },
  {
   "cell_type": "code",
   "execution_count": 12,
   "id": "086be41a",
   "metadata": {},
   "outputs": [
    {
     "name": "stdout",
     "output_type": "stream",
     "text": [
      "connie\n",
      "isable to do it,because He will help her\n"
     ]
    }
   ],
   "source": [
    "print('connie')\n",
    "print('is',end='')\n",
    "print('able to do it', end=',')\n",
    "print('because He will help her')"
   ]
  },
  {
   "cell_type": "code",
   "execution_count": 14,
   "id": "88018691",
   "metadata": {},
   "outputs": [
    {
     "name": "stdout",
     "output_type": "stream",
     "text": [
      "최근 배웠던 powerBI 를 더 익혀야 겠다, 그것은 25 년 되었다\n"
     ]
    }
   ],
   "source": [
    "name = 'powerBI'\n",
    "verb='is'\n",
    "year=25\n",
    "\n",
    "print('최근 배웠던 %s 를 더 익혀야 겠다, 그것은 %d 년 되었다' %(name,year))"
   ]
  },
  {
   "cell_type": "code",
   "execution_count": 15,
   "id": "da15390d",
   "metadata": {},
   "outputs": [],
   "source": [
    "name = 'jun'\n",
    "age = 48\n",
    "personality ='shy but firm'\n",
    "mbti='ISFP'"
   ]
  },
  {
   "cell_type": "code",
   "execution_count": 17,
   "id": "40356e50",
   "metadata": {},
   "outputs": [
    {
     "name": "stdout",
     "output_type": "stream",
     "text": [
      "His name is jun, age 48. He is a shy but firm person whose MBTI is ISFP\n"
     ]
    }
   ],
   "source": [
    "print('His name is {0}, age {1}. He is a {2} person whose MBTI is {3}'.format(name,age,personality,mbti))"
   ]
  },
  {
   "cell_type": "code",
   "execution_count": 30,
   "id": "4ed44412",
   "metadata": {},
   "outputs": [
    {
     "name": "stdout",
     "output_type": "stream",
     "text": [
      "인스타를 어떻게 활용해야 좋을까..아.\n",
      "굉장히 고민이 되는데... 처음에는 그냥 일기처럼 쓰려고 했는데공개 계정이라 그건 좀 결국 안되는거고,사진 올리며 약간 알림 기능을 하는 것 같은데그닥 주목을 끄는 것 같진 않다그럼 태그를 달다\n"
     ]
    }
   ],
   "source": [
    "'''\n",
    "인스타를 어떻게 활용해야 좋을까..아.\n",
    "굉장히 고민이 되는데... 처음에는 그냥 일기처럼 쓰려고 했는데\n",
    "공개 계정이라 그건 좀 결국 안되는거고, 사진 올리며 약간 알림 기능을 하는 것 같은데\n",
    "그닥 주목을 끄는 것 같진 않다.\n",
    "그럼 태그를 달다\n",
    "\n",
    "여기서 변수로 쓸 것 \n",
    "'''\n",
    "\n",
    "myW = \"인스타를 어떻게 활용해야 좋을까..아.\\n굉장히 고민이 되는데... \"\\\n",
    "      \"처음에는 그냥 일기처럼 쓰려고 했는데공개 계정이라 그건 좀 결국 안되는거고,\" \\\n",
    "    \"사진 올리며 약간 알림 기능을 하는 것 같은데그닥 주목을 끄는 것 같진 않다\"\\\n",
    "    \"그럼 태그를 달다\"\n",
    "\n",
    "\n",
    "\n",
    "    \n",
    "\n",
    "print(myW)"
   ]
  },
  {
   "cell_type": "code",
   "execution_count": 31,
   "id": "f9a2f09d",
   "metadata": {},
   "outputs": [
    {
     "name": "stdout",
     "output_type": "stream",
     "text": [
      "인스타그램를 어떻게 활용해야 좋을까..아.굉장히 고민이 되는데... 처음에는 그냥 일기처럼 쓰려고 했는데공개 계정이라 그건 좀 결국 안되는거고,사진올리며 약간 알림 기능을 하는 것 같은데그닥 주목을 끄는 것 같진 않다그럼 태그를 달다\n"
     ]
    }
   ],
   "source": [
    "insta='인스타그램'\n",
    "account='계정'\n",
    "pic='사진'\n",
    "\n",
    "print(f'{insta}를 어떻게 활용해야 좋을까..아.굉장히 고민이 되는데... 처음에는 그냥 일기처럼 쓰려고 했는데공개 {account}이라 그건 좀 결국 안되는거고,{pic}올리며 약간 알림 기능을 하는 것 같은데그닥 주목을 끄는 것 같진 않다그럼 태그를 달다')"
   ]
  },
  {
   "cell_type": "code",
   "execution_count": 32,
   "id": "3f722a43",
   "metadata": {},
   "outputs": [
    {
     "name": "stdout",
     "output_type": "stream",
     "text": [
      "3.141593\n",
      "3.141593\n",
      "3.141593\n",
      "3.1416\n",
      "    3.1416\n",
      "    3.1416\n",
      "3.1416    \n"
     ]
    }
   ],
   "source": [
    "pi = 3.1415926535\n",
    "\n",
    "print('%f' % pi)\n",
    "print('{:f}'.format(pi))\n",
    "print(f'{pi:f}')\n",
    "print(f'{pi:.4f}')\n",
    "print(f'{pi:10.4f}')\n",
    "print(f'{pi:>10.4f}')\n",
    "print(f'{pi:<10.4f}')"
   ]
  },
  {
   "cell_type": "code",
   "execution_count": 33,
   "id": "15cbe71b",
   "metadata": {},
   "outputs": [
    {
     "name": "stdout",
     "output_type": "stream",
     "text": [
      "16\n"
     ]
    }
   ],
   "source": [
    "str='나는 어쩌다 어른 어쩌다 50'\n",
    "print(len(str))"
   ]
  },
  {
   "cell_type": "code",
   "execution_count": null,
   "id": "abb62d8c",
   "metadata": {},
   "outputs": [],
   "source": [
    "'''\n",
    "나는 어쩌다 어른 어쩌다 50\n",
    "0 1 23 4 5 67 8 9101112131415\n",
    "'''"
   ]
  },
  {
   "cell_type": "code",
   "execution_count": 38,
   "id": "00de9eff",
   "metadata": {},
   "outputs": [
    {
     "name": "stdout",
     "output_type": "stream",
     "text": [
      "어른\n",
      "\n"
     ]
    }
   ],
   "source": [
    "print(str[7:9])\n"
   ]
  },
  {
   "cell_type": "code",
   "execution_count": 42,
   "id": "52dced5f",
   "metadata": {},
   "outputs": [
    {
     "name": "stdout",
     "output_type": "stream",
     "text": [
      "나는 어쩌다 어른 어쩌다 \n"
     ]
    }
   ],
   "source": [
    "print(str[:-2])"
   ]
  },
  {
   "cell_type": "code",
   "execution_count": 43,
   "id": "cc549a9d",
   "metadata": {},
   "outputs": [
    {
     "name": "stdout",
     "output_type": "stream",
     "text": [
      "는 어쩌\n"
     ]
    }
   ],
   "source": [
    "print(str[1:5]) "
   ]
  },
  {
   "cell_type": "code",
   "execution_count": 48,
   "id": "816e39ad",
   "metadata": {},
   "outputs": [
    {
     "name": "stdout",
     "output_type": "stream",
     "text": [
      " 어쩌다 어\n"
     ]
    }
   ],
   "source": [
    "print(str[2:8])"
   ]
  },
  {
   "cell_type": "code",
   "execution_count": 47,
   "id": "c283910d",
   "metadata": {},
   "outputs": [
    {
     "name": "stdout",
     "output_type": "stream",
     "text": [
      "123456789\n",
      "123456789\n",
      "123456789\n",
      "13579\n",
      "2468\n"
     ]
    }
   ],
   "source": [
    "str_number = '123456789'\n",
    "print(str_number)\n",
    "print(str_number[:])\n",
    "print(str_number[0:9:1])\n",
    "print(str_number[0:9:2])\n",
    "print(str_number[1:9:2])"
   ]
  },
  {
   "cell_type": "code",
   "execution_count": 56,
   "id": "de576de0",
   "metadata": {},
   "outputs": [
    {
     "name": "stdout",
     "output_type": "stream",
     "text": [
      "67\n"
     ]
    }
   ],
   "source": [
    "str_num='0123456789'\n",
    "\n",
    "print(str_num[-4:-2]) #왼쪽방향 전진"
   ]
  },
  {
   "cell_type": "code",
   "execution_count": 71,
   "id": "b723c9f4",
   "metadata": {},
   "outputs": [
    {
     "name": "stdout",
     "output_type": "stream",
     "text": [
      "3\n"
     ]
    }
   ],
   "source": [
    "'''\n",
    "count()갯수를 알고 싶은 문자열\n",
    "'''\n",
    "me ='i\\'mpreparingtoapplyforaforeigncompany'\n",
    "print(me.count('i'))"
   ]
  },
  {
   "cell_type": "code",
   "execution_count": 65,
   "id": "757432ad",
   "metadata": {},
   "outputs": [
    {
     "name": "stdout",
     "output_type": "stream",
     "text": [
      "9\n",
      "-1\n"
     ]
    }
   ],
   "source": [
    "print(me.find('t'))#인덱스 번호 반환\n",
    "print(me.find('z'))"
   ]
  },
  {
   "cell_type": "code",
   "execution_count": 73,
   "id": "513796e9",
   "metadata": {},
   "outputs": [
    {
     "name": "stdout",
     "output_type": "stream",
     "text": [
      "12\n"
     ]
    }
   ],
   "source": [
    "print(me.index('t'))#인덱스 번호 반환"
   ]
  },
  {
   "cell_type": "code",
   "execution_count": 72,
   "id": "13f4988c",
   "metadata": {},
   "outputs": [
    {
     "name": "stdout",
     "output_type": "stream",
     "text": [
      "i/'/m/p/r/e/p/a/r/i/n/g/t/o/a/p/p/l/y/f/o/r/a/f/o/r/e/i/g/n/c/o/m/p/a/n/y\n"
     ]
    }
   ],
   "source": [
    "print('/'.join(me))"
   ]
  },
  {
   "cell_type": "code",
   "execution_count": 74,
   "id": "66a3c310",
   "metadata": {},
   "outputs": [
    {
     "name": "stdout",
     "output_type": "stream",
     "text": [
      "['엄마는', '생선', '좋아하시는데', '일본이', '원전쓰레기', '방류해서', '못드시게됨']\n"
     ]
    }
   ],
   "source": [
    "mom='엄마는/생선/좋아하시는데/일본이/원전쓰레기/방류해서/못드시게됨'\n",
    "print(mom.split('/'))"
   ]
  },
  {
   "cell_type": "code",
   "execution_count": 75,
   "id": "210980cf",
   "metadata": {},
   "outputs": [
    {
     "name": "stdout",
     "output_type": "stream",
     "text": [
      "010*7777*8888\n"
     ]
    }
   ],
   "source": [
    "phone='010-7777-8888'\n",
    "print(phone.replace('-','*'))"
   ]
  },
  {
   "cell_type": "code",
   "execution_count": 82,
   "id": "cbbc44c3",
   "metadata": {},
   "outputs": [
    {
     "name": "stdout",
     "output_type": "stream",
     "text": [
      "['010', '7777', '8888']\n",
      "7777\n",
      "01077778888\n"
     ]
    }
   ],
   "source": [
    "print(phone.split('-'))\n",
    "list_split_phone=phone.split('-')\n",
    "print(list_split_phone[1])\n",
    "print(list_split_phone[0]+list_split_phone[1]+list_split_phone[2])"
   ]
  },
  {
   "cell_type": "code",
   "execution_count": 88,
   "id": "3fc3445c",
   "metadata": {},
   "outputs": [
    {
     "name": "stdout",
     "output_type": "stream",
     "text": [
      "dkjdaf d djfsdaf   woer dgs     dkafj dlf f\n",
      "dkjdafddjfsdafwoerdgsdkafjdlff\n"
     ]
    }
   ],
   "source": [
    "'''공백제거 .strip()'''\n",
    "dummyStr='dkjdaf d djfsdaf   woer dgs     dkafj dlf f    '\n",
    "print(dummyStr.strip())\n",
    "print(dummyStr.replace(\" \",\"\"))"
   ]
  }
 ],
 "metadata": {
  "kernelspec": {
   "display_name": "Python 3 (ipykernel)",
   "language": "python",
   "name": "python3"
  },
  "language_info": {
   "codemirror_mode": {
    "name": "ipython",
    "version": 3
   },
   "file_extension": ".py",
   "mimetype": "text/x-python",
   "name": "python",
   "nbconvert_exporter": "python",
   "pygments_lexer": "ipython3",
   "version": "3.10.9"
  }
 },
 "nbformat": 4,
 "nbformat_minor": 5
}
