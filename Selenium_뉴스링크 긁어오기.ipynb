{
 "cells": [
  {
   "cell_type": "code",
   "execution_count": 11,
   "id": "426f2afa",
   "metadata": {
    "scrolled": true
   },
   "outputs": [
    {
     "name": "stdout",
     "output_type": "stream",
     "text": [
      "                                                  Href\n",
      "0    https://search.naver.com/search.naver?where=ne...\n",
      "1    https://search.naver.com/search.naver?where=ne...\n",
      "2                               https://www.naver.com/\n",
      "3    https://search.naver.com/search.naver?where=ne...\n",
      "4    https://search.naver.com/search.naver?where=ne...\n",
      "..                                                 ...\n",
      "443                    https://www.naver.com/more.html\n",
      "444       https://policy.naver.com/policy/service.html\n",
      "445       https://policy.naver.com/policy/privacy.html\n",
      "446  https://help.naver.com/alias/search/integratio...\n",
      "447                         https://www.navercorp.com/\n",
      "\n",
      "[448 rows x 1 columns]\n"
     ]
    }
   ],
   "source": [
    "from selenium import webdriver\n",
    "from selenium.webdriver.common.by import By\n",
    "from selenium.webdriver.common.keys import Keys\n",
    "import time\n",
    "import pandas as pd\n",
    "\n",
    "# 브라우저 꺼짐 방지 옵션\n",
    "from selenium.webdriver.chrome.options import Options\n",
    "chrome_options = Options()\n",
    "chrome_options.add_experimental_option(\"detach\", True)\n",
    "\n",
    "# 웹페이지 해당 주소 이동\n",
    "browser = webdriver.Chrome(options=chrome_options)\n",
    "browser.get(\"http://naver.com\")\n",
    "\n",
    "time.sleep(2)\n",
    "\n",
    "elem = browser.find_element(By.ID, 'query')\n",
    "elem.click()\n",
    "elem.send_keys('이스라엘전쟁')\n",
    "elem.send_keys(Keys.ENTER)\n",
    "\n",
    "\n",
    "time.sleep(3)\n",
    "\n",
    "\n",
    "elem1 = browser.find_elements(By.TAG_NAME, \"a\")\n",
    "\n",
    "\n",
    "href_values = []\n",
    "\n",
    "\n",
    "for e in elem1:\n",
    "    href_value = e.get_attribute(\"href\")\n",
    "    if href_value:\n",
    "        href_values.append(href_value)\n",
    "\n",
    "# Create a DataFrame using pandas\n",
    "df = pd.DataFrame({\"Href\": href_values})\n",
    "\n",
    "# Print the DataFrame\n",
    "print(df)\n",
    "\n",
    "# Close the browser\n",
    "browser.quit()\n",
    "\n",
    "    "
   ]
  }
 ],
 "metadata": {
  "kernelspec": {
   "display_name": "Python 3 (ipykernel)",
   "language": "python",
   "name": "python3"
  },
  "language_info": {
   "codemirror_mode": {
    "name": "ipython",
    "version": 3
   },
   "file_extension": ".py",
   "mimetype": "text/x-python",
   "name": "python",
   "nbconvert_exporter": "python",
   "pygments_lexer": "ipython3",
   "version": "3.11.3"
  }
 },
 "nbformat": 4,
 "nbformat_minor": 5
}
