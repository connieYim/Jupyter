{
 "cells": [
  {
   "cell_type": "markdown",
   "metadata": {},
   "source": [
    "## 반자동 문서 스캐너"
   ]
  },
  {
   "cell_type": "code",
   "execution_count": 10,
   "metadata": {},
   "outputs": [
    {
     "name": "stdout",
     "output_type": "stream",
     "text": [
      "Down Left Button\n",
      "x cordinate : 355 y cordinate: 72\n",
      "Up Left Button\n",
      "x cordinate : 356 y cordinate: 72\n",
      "Down Left Button\n",
      "x cordinate : 290 y cordinate: 399\n",
      "Up Left Button\n",
      "x cordinate : 290 y cordinate: 399\n",
      "Down Left Button\n",
      "x cordinate : 149 y cordinate: 327\n",
      "Up Left Button\n",
      "x cordinate : 149 y cordinate: 325\n",
      "Down Left Button\n",
      "x cordinate : 193 y cordinate: 167\n",
      "Up Left Button\n",
      "x cordinate : 193 y cordinate: 166\n",
      "Double Click Left Button\n",
      "x cordinate : 193 y cordinate: 166\n",
      "Up Left Button\n",
      "x cordinate : 193 y cordinate: 166\n",
      "Down Right Button\n",
      "x cordinate : 436 y cordinate: 292\n",
      "Up Right Button\n",
      "x cordinate : 436 y cordinate: 292\n",
      "Down Right Button\n",
      "x cordinate : 365 y cordinate: 353\n",
      "Up Right Button\n",
      "x cordinate : 365 y cordinate: 353\n",
      "Down Left Button\n",
      "x cordinate : 154 y cordinate: 375\n",
      "Up Left Button\n",
      "x cordinate : 154 y cordinate: 375\n"
     ]
    }
   ],
   "source": [
    "import cv2\n",
    "img = cv2.imread('poker.jpg')\n",
    "\n",
    "def mouse_handler(event, x, y, flags, param):\n",
    "    if event == cv2.EVENT_LBUTTONDOWN: # 마우스 왼쪽 버튼 Down\n",
    "        print('Down Left Button')\n",
    "        print('x cordinate :' ,x, 'y cordinate:', y)\n",
    "    elif event == cv2.EVENT_LBUTTONUP: # 마우스 왼쪽 버튼 Up\n",
    "        print('Up Left Button')\n",
    "        print('x cordinate :' ,x, 'y cordinate:', y)\n",
    "     \n",
    "    elif event == cv2.EVENT_LBUTTONDBLCLK: # 마우스 왼쪽 버튼 더블 클릭\n",
    "        print('Double Click Left Button')\n",
    "        print('x cordinate :' ,x, 'y cordinate:', y)\n",
    "#     elif event == cv2.EVENT_MOUSEMOVE: # 마우스 이동\n",
    "#         print('마우스 이동')\n",
    "    elif event == cv2.EVENT_RBUTTONDOWN: # 오른쪽 버튼 Down\n",
    "        print('Down Right Button')\n",
    "        print('x cordinate :' ,x, 'y cordinate:', y)\n",
    "      \n",
    "    elif event == cv2.EVENT_RBUTTONUP: # 마우스 왼쪽 버튼 Up\n",
    "        print('Up Right Button')\n",
    "        print('x cordinate :' ,x, 'y cordinate:', y)\n",
    "     \n",
    "    \n",
    "cv2.namedWindow('img') # img 란 이름의 윈도우를 먼저 만들어두는 것. 여기에 마우스 이벤트를 처리하기 위한 핸들러 적용\n",
    "cv2.setMouseCallback('img', mouse_handler)\n",
    "cv2.imshow('img', img)\n",
    "cv2.waitKey(0)\n",
    "cv2.destroyAllWindows()\n"
   ]
  },
  {
   "cell_type": "code",
   "execution_count": 11,
   "metadata": {},
   "outputs": [],
   "source": [
    "# Ace 카드 좌표 찍어서 바로 세워보기 (프로젝트)\n",
    "import cv2\n",
    "import numpy as np\n",
    "\n",
    "# 사각형의 4점을 리스트로 받을 것이다 \n",
    "# 마우스 핸들러에서 왼쪽 다운만 쓰게 될 것이다 \n",
    "\n",
    "\n",
    "s_img = cv2.imread('45g.jpg')\n",
    "COLOR = (255,0,255) #pink\n",
    "point_list =[]\n",
    "\n",
    "# 왼쪽 마우스를 클릭 했을 때 x, y 값을 추가에서 저장 하는 작업 \n",
    "def mouse_handler(event, x, y, flags, param):\n",
    "    if event == cv2.EVENT_LBUTTONDOWN: # 마우스 왼쪽 버튼 Down\n",
    "        point_list.append((x,y)) # 튜플형태로 넣으면 좌표가 들어간다\n",
    "    \n",
    "    # 원하는 좌표를 원형으로 그리는 행위를 for 문으로 표현한다 \n",
    "    for point in point_list:\n",
    "        cv2.circle(s_img, point, 7, COLOR, cv2.FILLED)\n",
    "        \n",
    "    if len (point_list)==4: # 4개의 점을 모두 찾았다 \n",
    "        show_result()\n",
    "        \n",
    "    cv2.imshow('s_img',s_img)\n",
    "        \n",
    "def show_result():\n",
    "    width, height = 510, 640\n",
    "\n",
    "    src = np.float32(point_list) # point_list 에서 받아온 좌표를 array 로 만들어 준다 \n",
    "    dst = np.array([[0, 0], [width, 0], [width, height], [0, height]], dtype=np.float32) # Output 4개 지점\n",
    "    matrix = cv2.getPerspectiveTransform(src, dst) # Matrix 얻기\n",
    "    result = cv2.warpPerspective(s_img, matrix, (width, height)) # 변환 적용\n",
    "    cv2.imshow('result',result)\n",
    "     \n",
    "\n",
    "cv2.namedWindow('s_img') # img 란 이름의 윈도우를 먼저 만들어두는 것. 여기에 마우스 이벤트를 처리하기 위한 핸들러 적용\n",
    "cv2.setMouseCallback('s_img', mouse_handler)\n",
    "cv2.imshow('s_img', s_img)\n",
    "cv2.waitKey(0)\n",
    "cv2.destroyAllWindows()\n"
   ]
  },
  {
   "cell_type": "code",
   "execution_count": 12,
   "metadata": {},
   "outputs": [],
   "source": [
    "# Ace 카드 좌표 선으로 그리면서 \n",
    "import cv2\n",
    "import numpy as np\n",
    "\n",
    "point_list = []\n",
    "src_img = cv2.imread('45g.jpg')\n",
    "# src_img = cv2.resize(src_img, None, fx=0.5, fy=0.5) \n",
    "# 이미지가 너무 커서 0.5 배로 축소\n",
    "\n",
    "COLOR = (255,215,0)\n",
    "THICKNESS = 2\n",
    "drawing = False # 선을 그릴지 여부\n",
    "\n",
    "def mouse_handler(event, x, y, flags, param):\n",
    "    global drawing\n",
    "    dst_img = src_img.copy()\n",
    "    \n",
    "    if event == cv2.EVENT_LBUTTONDOWN: # 마우스 왼쪽 버튼 Down\n",
    "        drawing = True # 선을 그리기 시작\n",
    "        point_list.append((x, y))\n",
    "     \n",
    "    if drawing:\n",
    "        prev_point = None # 직선의 시작점\n",
    "        for point in point_list:\n",
    "            cv2.circle(dst_img, point, 10, COLOR, cv2.FILLED)\n",
    "            if prev_point:\n",
    "                cv2.line(dst_img, prev_point, point, COLOR, THICKNESS, cv2.LINE_AA)\n",
    "            prev_point = point\n",
    "        \n",
    "        next_point = (x, y)\n",
    "        if len(point_list) == 4:\n",
    "            show_result() # 결과 출력\n",
    "            next_point = point_list[0] # 첫 번째 클릭한 지점\n",
    "            \n",
    "        cv2.line(dst_img, prev_point, next_point, COLOR, THICKNESS, cv2.LINE_AA)\n",
    "        \n",
    "    cv2.imshow('img', dst_img)\n",
    "    \n",
    "def show_result():\n",
    "    width, height = 417,640\n",
    "    src = np.float32(point_list)\n",
    "    dst = np.array([[0, 0], [width, 0], [width, height], [0, height]], dtype=np.float32) # Output 4개 지점\n",
    "    # 좌상, 우상, 우하, 좌하 (시계 방향으로 4 지점 정의)\n",
    "\n",
    "    matrix = cv2.getPerspectiveTransform(src, dst) # Matrix 얻어옴\n",
    "    result = cv2.warpPerspective(src_img, matrix, (width, height)) # matrix 대로 변환을 함\n",
    "    cv2.imshow('result', result)\n",
    "\n",
    "cv2.namedWindow('img') # img 란 이름의 윈도우를 먼저 만들어두는 것. 여기에 마우스 이벤트를 처리하기 위한 핸들러 적용\n",
    "cv2.setMouseCallback('img', mouse_handler)\n",
    "cv2.imshow('img', src_img)\n",
    "cv2.waitKey(0)\n",
    "cv2.destroyAllWindows()"
   ]
  },
  {
   "cell_type": "code",
   "execution_count": 36,
   "metadata": {},
   "outputs": [
    {
     "data": {
      "text/plain": [
       "(417, 640, 3)"
      ]
     },
     "execution_count": 36,
     "metadata": {},
     "output_type": "execute_result"
    }
   ],
   "source": [
    "s_img.shape"
   ]
  },
  {
   "cell_type": "code",
   "execution_count": null,
   "metadata": {},
   "outputs": [],
   "source": []
  },
  {
   "cell_type": "code",
   "execution_count": null,
   "metadata": {},
   "outputs": [],
   "source": []
  },
  {
   "cell_type": "code",
   "execution_count": null,
   "metadata": {},
   "outputs": [],
   "source": []
  },
  {
   "cell_type": "code",
   "execution_count": null,
   "metadata": {},
   "outputs": [],
   "source": []
  },
  {
   "cell_type": "code",
   "execution_count": null,
   "metadata": {},
   "outputs": [],
   "source": []
  },
  {
   "cell_type": "code",
   "execution_count": null,
   "metadata": {},
   "outputs": [],
   "source": []
  }
 ],
 "metadata": {
  "kernelspec": {
   "display_name": "Python 3",
   "language": "python",
   "name": "python3"
  },
  "language_info": {
   "codemirror_mode": {
    "name": "ipython",
    "version": 3
   },
   "file_extension": ".py",
   "mimetype": "text/x-python",
   "name": "python",
   "nbconvert_exporter": "python",
   "pygments_lexer": "ipython3",
   "version": "3.7.4"
  }
 },
 "nbformat": 4,
 "nbformat_minor": 2
}
