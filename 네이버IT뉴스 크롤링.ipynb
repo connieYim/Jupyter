{
 "cells": [
  {
   "cell_type": "code",
   "execution_count": 2,
   "id": "35342e69",
   "metadata": {},
   "outputs": [
    {
     "name": "stdout",
     "output_type": "stream",
     "text": [
      "[<div class=\"sh_text\">\n",
      "<a class=\"sh_text_headline nclicks(cls_sci.clsart)\" href=\"https://n.news.naver.com/mnews/article/421/0007147934?sid=105\">라인게임즈, 신임 부사장에 김태환 전 넥슨코리아 부사장</a>\n",
      "<div class=\"sh_text_lede\">라인게임즈는 김태환 전 넥슨코리아 부사장을 라인게임즈의 부사장으로, 넥슨코리아 출신 윤주현 전 플랫폼 디렉터를 최고기술책임자(CTO)로 영입했다고 1일  …</div>\n",
      "<div class=\"sh_text_info\" data-comment=\"{gno:'news421,0007147934',params:{sid1:'105'},nclicks:'cmt.count','type':'sectionHomeCluster'}\">\n",
      "<div class=\"sh_text_press\">뉴스1</div>\n",
      "<a class=\"sh_head_more nclicks(cls_sci.clstitle)\" href=\"/main/clusterArticles.naver?id=c_202310311650_00001070&amp;mode=LSD&amp;mid=shm&amp;sid1=105&amp;oid=421&amp;aid=0007147934\"><span class=\"sh_head_more_icon_num\">20</span><span class=\"blind\">개의 관련뉴스 더보기</span></a>\n",
      "</div>\n",
      "</div>, <div class=\"sh_text\">\n",
      "<a class=\"sh_text_headline nclicks(cls_sci.clsart)\" href=\"https://n.news.naver.com/mnews/article/469/0000768004?sid=105\">\"해외로 뻗어나가는 K-IT\"…인도네시아·사우디 첨단 스마트시티 구축 나선다</a>\n",
      "<div class=\"sh_text_lede\">국내 정보통신(IT) 기업들이 자사의 첨단 솔루션을 연이어 해외로 수출하고 있다. 그동안 토목, 제조 등 하드웨어(HW) 기반 기업들이 주로 해외 사업  …</div>\n",
      "<div class=\"sh_text_info\" data-comment=\"{gno:'news469,0000768004',params:{sid1:'105'},nclicks:'cmt.count','type':'sectionHomeCluster'}\">\n",
      "<div class=\"sh_text_press\">한국일보</div>\n",
      "<a class=\"sh_head_more nclicks(cls_sci.clstitle)\" href=\"/main/clusterArticles.naver?id=c_202311010910_00000045&amp;mode=LSD&amp;mid=shm&amp;sid1=105&amp;oid=469&amp;aid=0000768004\"><span class=\"sh_head_more_icon_num\">22</span><span class=\"blind\">개의 관련뉴스 더보기</span></a>\n",
      "</div>\n",
      "</div>, <div class=\"sh_text\">\n",
      "<a class=\"sh_text_headline nclicks(cls_sci.clsart)\" href=\"https://n.news.naver.com/mnews/article/421/0007147609?sid=105\">\"환아에게 돌봄을 보호자에게 휴식을\"…24시간 어린이돌봄센터 개소</a>\n",
      "<div class=\"sh_text_lede\">짧은 시간이지만 안전하게 중증 소아청소년 환자들을 케어함으로써 서울대병원에 오는 환자와 가족분들이 안심하고 지친 몸과 마음을 재충전할 수 있었으면 좋겠습 …</div>\n",
      "<div class=\"sh_text_info\" data-comment=\"{gno:'news421,0007147609',params:{sid1:'105'},nclicks:'cmt.count','type':'sectionHomeCluster'}\">\n",
      "<div class=\"sh_text_press\">뉴스1</div>\n",
      "<a class=\"sh_head_more nclicks(cls_sci.clstitle)\" href=\"/main/clusterArticles.naver?id=c_202311011510_00000003&amp;mode=LSD&amp;mid=shm&amp;sid1=105&amp;oid=421&amp;aid=0007147609\"><span class=\"sh_head_more_icon_num\">27</span><span class=\"blind\">개의 관련뉴스 더보기</span></a>\n",
      "</div>\n",
      "</div>, <div class=\"sh_text\">\n",
      "<a class=\"sh_text_headline nclicks(cls_sci.clsart)\" href=\"https://n.news.naver.com/mnews/article/015/0004909130?sid=105\">LGU+, '3대 AI 서비스'로 대기업·소상공인 맘 잡는다</a>\n",
      "<div class=\"sh_text_lede\">LG유플러스가 인공지능(AI) 솔루션을 3종을 축으로 내세워 기업간거래(B2B) AI 시장을 공략하기로 했다. 대기업, 중소기업, 소상공인 등을 위한 맞 …</div>\n",
      "<div class=\"sh_text_info\" data-comment=\"{gno:'news015,0004909130',params:{sid1:'105'},nclicks:'cmt.count','type':'sectionHomeCluster'}\">\n",
      "<div class=\"sh_text_press\">한국경제</div>\n",
      "<a class=\"sh_head_more nclicks(cls_sci.clstitle)\" href=\"/main/clusterArticles.naver?id=c_202311010910_00000014&amp;mode=LSD&amp;mid=shm&amp;sid1=105&amp;oid=015&amp;aid=0004909130\"><span class=\"sh_head_more_icon_num\">25</span><span class=\"blind\">개의 관련뉴스 더보기</span></a>\n",
      "</div>\n",
      "</div>, <div class=\"sh_text\">\n",
      "<a class=\"sh_text_headline nclicks(cls_sci.clsart)\" href=\"https://n.news.naver.com/mnews/article/138/0002159885?sid=105\"> 글로벌 6G 확보하자…우리은행 불완전판매 악몽 잊었을까?[DD퇴근길]</a>\n",
      "<div class=\"sh_text_lede\">디지털데일리가 퇴근 즈음해서 읽을 수 있는 [DD퇴근길] 코너를 마련했습니다. 하루동안 발생한 주요 이슈들을 퇴근길에서 가벼운 마음으로 읽을 수 있도록  …</div>\n",
      "<div class=\"sh_text_info\" data-comment=\"{gno:'news138,0002159885',params:{sid1:'105'},nclicks:'cmt.count','type':'sectionHomeCluster'}\">\n",
      "<div class=\"sh_text_press\">디지털데일리</div>\n",
      "<a class=\"sh_head_more nclicks(cls_sci.clstitle)\" href=\"/main/clusterArticles.naver?id=c_202311011210_00000008&amp;mode=LSD&amp;mid=shm&amp;sid1=105&amp;oid=138&amp;aid=0002159885\"><span class=\"sh_head_more_icon_num\">18</span><span class=\"blind\">개의 관련뉴스 더보기</span></a>\n",
      "</div>\n",
      "</div>, <div class=\"sh_text\">\n",
      "<a class=\"sh_text_headline nclicks(cls_sci.clsart)\" href=\"https://n.news.naver.com/mnews/article/020/0003528626?sid=105\">디지털 권리장전, 공동번영사회로의 첫걸음[기고/이원우]</a>\n",
      "<div class=\"sh_text_lede\">디지털 기술은 우리의 삶을 좀 더 풍요롭게 만들어 주면서도 동시에 새로운 고민을 안겨주고 있다. 플랫폼 노동, 인공지능 학습과 저작물의 보호, 증가하는  …</div>\n",
      "<div class=\"sh_text_info\" data-comment=\"{gno:'news020,0003528626',params:{sid1:'105'},nclicks:'cmt.count','type':'sectionHomeCluster'}\">\n",
      "<div class=\"sh_text_press\">동아일보</div>\n",
      "<a class=\"sh_head_more nclicks(cls_sci.clstitle)\" href=\"/main/clusterArticles.naver?id=c_202310311550_00000945&amp;mode=LSD&amp;mid=shm&amp;sid1=105&amp;oid=020&amp;aid=0003528626\"><span class=\"sh_head_more_icon_num\">16</span><span class=\"blind\">개의 관련뉴스 더보기</span></a>\n",
      "</div>\n",
      "</div>]\n"
     ]
    }
   ],
   "source": [
    "from selenium import webdriver\n",
    "from bs4 import BeautifulSoup as bs\n",
    "from webdriver_manager.chrome import ChromeDriverManager\n",
    "import re\n",
    "\n",
    "# # brew 로 설치된 chromedriver의 path (Mac)\n",
    "# # 실행 권한 오류가 생길 시, chromedriver가 있는 폴더로 이동하여 `xattr -d com.apple.quarantine chromedriver` 명령어 입력\n",
    "# mac_path = \"/usr/local/bin/chromedriver\"  # m1 이전 맥 OS\n",
    "# # mac_path = \"/opt/homebrew/bin/chromedriver\"  # m1 이후 맥 OS\n",
    "\n",
    "# # 윈도우용 크롬 웹드라이버 실행 경로 (Windows)\n",
    "window_path = \"../Chapter2/chromedriver.exe\"\n",
    "\n",
    "# 크롤링할 사이트 주소를 정의합니다.\n",
    "source_url = \"https://news.naver.com/main/main.naver?mode=LSD&mid=shm&sid1=105\"\n",
    "\n",
    "# 크롬 드라이버를 사용합니다 (맥은 첫 줄, 윈도우는 두번째 줄 실행)\n",
    "driver = webdriver.Chrome()\n",
    "\n",
    "# 드라이버가 브라우징 할 페이지 소스를 입력합니다\n",
    "driver.get(source_url)\n",
    "req = driver.page_source\n",
    "soup = bs(req, \"html.parser\")\n",
    "cluster_text = soup.find_all(name=\"div\", attrs={\"class\":\"sh_text\"})\n",
    "\n",
    "print(cluster_text)"
   ]
  },
  {
   "cell_type": "code",
   "execution_count": 3,
   "id": "1ce15d65",
   "metadata": {},
   "outputs": [
    {
     "name": "stdout",
     "output_type": "stream",
     "text": [
      "https://n.news.naver.com/mnews/article/020/0003528626?sid=105\n",
      "https://n.news.naver.com/mnews/article/469/0000768004?sid=105\n",
      "https://n.news.naver.com/mnews/article/421/0007147934?sid=105\n",
      "https://n.news.naver.com/mnews/article/138/0002159885?sid=105\n",
      "https://n.news.naver.com/mnews/article/015/0004909130?sid=105\n"
     ]
    }
   ],
   "source": [
    "# a태그의 href 속성을 리스트로 추출하여, 크롤링 할 페이지 리스트를 생성합니다.\n",
    "page_urls = []\n",
    "for index in range(0, len(cluster_text)):\n",
    "    cluster = cluster_text[index]\n",
    "    news_url = cluster.find(name=\"a\", attrs={\"class\":\"sh_text_headline nclicks(cls_sci.clsart)\"})\n",
    "    if news_url is not None:\n",
    "        page_urls.append(news_url.get(\"href\"))\n",
    "\n",
    "# 중복 url을 제거합니다.\n",
    "page_urls = list(set(page_urls))\n",
    "\n",
    "# 다섯 개의 페이지를 출력합니다.\n",
    "for page in page_urls[:5]:\n",
    "    print(page)\n",
    "\n",
    "# 크롤링에 사용한 브라우저를 종료합니다.\n",
    "driver.close()\n"
   ]
  },
  {
   "cell_type": "code",
   "execution_count": 10,
   "id": "3fef515c",
   "metadata": {},
   "outputs": [
    {
     "name": "stdout",
     "output_type": "stream",
     "text": [
      "디지털 권리장전, 공동번영사회로의 첫걸음[기고/이원우]\n",
      "\n",
      "\n",
      "\n",
      "\n",
      "\n",
      "\n",
      "\n",
      "\n",
      "이원우 서울대 법학전문대학원 교수디지털 기술은 우리의 삶을 좀 더 풍요롭게 만들어 주면서도 동시에 새로운 고민을 안겨주고 있다. 플랫폼 노동, 인공지능 학습과 저작물의 보호, 증가하는 디지털 격차 문제는 기존의 법과 제도만으로는 해결하기 어렵다. 디지털 심화 시대에 맞는 ‘새로운 디지털 질서’가 필요하게 된 것이다. 이러한 변화에 발맞춰 올해 9월 25일 정부는 ‘디지털 공동번영사회의 가치와 원칙에 관한 헌장’, 일명 ‘디지털 권리장전’을 발표했다. 이는 다음과 같은 점에서 새로운 디지털 질서 정립을 위한 의미 있는 출발점이다. 첫째, 디지털 권리장전에서 지향할 미래상으로 제시된 ‘디지털 공동번영사회’는 디지털 혜택을 추구하면서 그 혜택은 모두가 정의롭고 공정하게 향유하는 사회를 의미한다. 승자독식의 특성을 갖는 디지털 기술을 다루면서 ‘공동번영’을 제시해 균형을 이루고자 한 것이다. 둘째, 개인의 권리 보장과 안전을 중심으로 구성해온 여타의 국제적인 디지털 헌장들과 달리 ‘디지털 혁신’도 중요한 원칙으로 강조하고 있다. 이러한 ‘혁신지향’은 디지털을 통해 성장을 거듭해온 우리의 경험을 담아냈다. 셋째, 개인의 권리 보장만이 아니라 디지털 사회에서 요구되는 사회적 원칙과 책임도 함께 규정하고 있다. 과거와는 달리 국가와 국민, 기업이 국제적 차원에서 상호 영향력을 서로 주고받기 때문이다. 넷째, 인류 보편의 디지털 국제규범 확립을 위해 국제사회의 연대와 협력을 제안하고 있다. 이는 국제규범 형성에서 주도적인 역할을 수행하기 위해 매우 의미 있는 행위다. 10월 16일 유엔 차원의 글로벌 디지털 규범을 논의하는 ‘유엔 GDC 아태지역 의견 수렴회의’에서 한국의 디지털 권리장전 관련 논의가 진행됐다. 다섯째, 디지털 권리장전 수립 과정에서 각계각층의 다양한 의견을 들으며 우리 사회에 축적된 경험과 철학을 담았다. 분야별 디지털 석학들이 참여하는 ‘디지털 소사이어티’와 다양한 이해관계자가 함께 참여하는 ‘디지털 신질서 협의체’는 수립 과정에서 주도적인 역할을 했다. 학회 공동 연구, 현장 간담회, 디지털 공론장 개설 등을 통해 시민사회의 의견도 충실히 반영했다. 디지털 권리장전이 제시한 새로운 디지털 질서를 실제로 구현하려면 디지털 심화시대에 맞는 규범을 체계적으로 만들어 나가면서 그 과정과 내용을 글로벌 논의에 적용해야 한다. 소관 부처의 지속적인 노력이 요구되는 것은 물론이다. 하지만 공동체 질서의 형성은 특정한 주체에만 기댈 수 없다. 국민 모두가 함께 ‘새로운 디지털 질서’ 정립 논의에 적극 참여해야 한다. \n",
      "\n",
      "\n"
     ]
    }
   ],
   "source": [
    "driver = webdriver.Chrome()\n",
    "\n",
    "driver.get(page_urls[0])\n",
    "req = driver.page_source\n",
    "soup = BeautifulSoup(req, 'html.parser')\n",
    "title_area = soup.find(name=\"div\", attrs={\"class\":\"media_end_head_title\"})\n",
    "title = title_area.find_all('h2')[0]\n",
    "content_paragraphs = soup.find(name=\"div\", attrs={\"class\":\"newsct_article\"})\n",
    "content_corpus = content_paragraphs.text\n",
    "\n",
    "print(title.text)\n",
    "print(\"\\n\")\n",
    "print(content_corpus)\n",
    "\n",
    "# 크롤링에 사용한 브라우저를 종료합니다.\n",
    "driver.close()"
   ]
  },
  {
   "cell_type": "code",
   "execution_count": 11,
   "id": "454932d3",
   "metadata": {},
   "outputs": [],
   "source": [
    "%matplotlib inline\n",
    "\n",
    "import pandas as pd\n",
    "import numpy as np\n",
    "import matplotlib.pyplot as plt\n",
    "\n",
    "import warnings\n",
    "warnings.filterwarnings(\"ignore\")"
   ]
  },
  {
   "cell_type": "code",
   "execution_count": 13,
   "id": "3accb179",
   "metadata": {},
   "outputs": [],
   "source": [
    "# 크롤링한 데이터를 데이터 프레임으로 만들기 위해 준비합니다.\n",
    "columns = [\"title\", \"content_text\"]\n",
    "df = pd.DataFrame(columns=columns)\n",
    "\n",
    "# 각 페이지별 '제목', '본문' 정보를 데이터 프레임으로 만듭니다.\n",
    "for page_url in page_urls:\n",
    "\n",
    "    # 사이트의 html 구조에 기반하여 크롤링을 수행합니다.\n",
    "    driver = webdriver.Chrome()  # for Mac\n",
    "    # driver = webdriver.Chrome(window_path)  # for Windows\n",
    "    driver.get(page_url)\n",
    "    req = driver.page_source\n",
    "    soup = BeautifulSoup(req, \"html.parser\")\n",
    "    \n",
    "    title_area = soup.find(name=\"div\", attrs={\"class\":\"media_end_head_title\"})\n",
    "    title = title_area.find_all('h2')[0]\n",
    "    content_paragraphs = soup.find(name=\"div\", attrs={\"class\":\"newsct_article\"})\n",
    "    content_corpus = content_paragraphs.text\n",
    "    \n",
    "    # 제목 정보에서 개행 문자를 제거한 뒤 추출합니다. 만약 없는 경우, 빈 문자열로 대체합니다.\n",
    "    if title is not None:\n",
    "        row_title = title.text.replace(\"\\n\", \" \")\n",
    "    else:\n",
    "        row_title = \"\"\n",
    "    \n",
    "    \n",
    "    # 모든 정보를 하나의 데이터 프레임에 저장합니다.\n",
    "    row = [row_title, content_corpus]\n",
    "    series = pd.Series(row, index=df.columns)\n",
    "    df = df.append(series, ignore_index=True)\n",
    "    \n",
    "    # 크롤링에 사용한 브라우저를 종료합니다.\n",
    "    driver.close()"
   ]
  },
  {
   "cell_type": "code",
   "execution_count": 14,
   "id": "15c7d398",
   "metadata": {},
   "outputs": [
    {
     "data": {
      "text/html": [
       "<div>\n",
       "<style scoped>\n",
       "    .dataframe tbody tr th:only-of-type {\n",
       "        vertical-align: middle;\n",
       "    }\n",
       "\n",
       "    .dataframe tbody tr th {\n",
       "        vertical-align: top;\n",
       "    }\n",
       "\n",
       "    .dataframe thead th {\n",
       "        text-align: right;\n",
       "    }\n",
       "</style>\n",
       "<table border=\"1\" class=\"dataframe\">\n",
       "  <thead>\n",
       "    <tr style=\"text-align: right;\">\n",
       "      <th></th>\n",
       "      <th>title</th>\n",
       "      <th>content_text</th>\n",
       "    </tr>\n",
       "  </thead>\n",
       "  <tbody>\n",
       "    <tr>\n",
       "      <th>0</th>\n",
       "      <td>디지털 권리장전, 공동번영사회로의 첫걸음[기고/이원우]</td>\n",
       "      <td>\\n\\n\\n\\n\\n\\n이원우 서울대 법학전문대학원 교수디지털 기술은 우리의 삶을 좀...</td>\n",
       "    </tr>\n",
       "    <tr>\n",
       "      <th>1</th>\n",
       "      <td>\"해외로 뻗어나가는 K-IT\"…인도네시아·사우디 첨단 스마트시티 구축 나선다</td>\n",
       "      <td>\\n\\nKT, 인도네시아·사우디서 ICT 관련 MOU 체결네이버는 사우디와 1억 달...</td>\n",
       "    </tr>\n",
       "    <tr>\n",
       "      <th>2</th>\n",
       "      <td>라인게임즈, 신임 부사장에 김태환 전 넥슨코리아 부사장</td>\n",
       "      <td>\\n\\n넥슨코리아 출신 윤주현 전 플랫폼 디렉터도 CTO로\\n\\n\\n\\n김태환 라인...</td>\n",
       "    </tr>\n",
       "  </tbody>\n",
       "</table>\n",
       "</div>"
      ],
      "text/plain": [
       "                                        title  \\\n",
       "0              디지털 권리장전, 공동번영사회로의 첫걸음[기고/이원우]   \n",
       "1  \"해외로 뻗어나가는 K-IT\"…인도네시아·사우디 첨단 스마트시티 구축 나선다   \n",
       "2              라인게임즈, 신임 부사장에 김태환 전 넥슨코리아 부사장   \n",
       "\n",
       "                                        content_text  \n",
       "0  \\n\\n\\n\\n\\n\\n이원우 서울대 법학전문대학원 교수디지털 기술은 우리의 삶을 좀...  \n",
       "1  \\n\\nKT, 인도네시아·사우디서 ICT 관련 MOU 체결네이버는 사우디와 1억 달...  \n",
       "2  \\n\\n넥슨코리아 출신 윤주현 전 플랫폼 디렉터도 CTO로\\n\\n\\n\\n김태환 라인...  "
      ]
     },
     "execution_count": 14,
     "metadata": {},
     "output_type": "execute_result"
    }
   ],
   "source": [
    "# 데이터 프레임을 출력합니다.\n",
    "df.head(3)"
   ]
  }
 ],
 "metadata": {
  "kernelspec": {
   "display_name": "Python 3 (ipykernel)",
   "language": "python",
   "name": "python3"
  },
  "language_info": {
   "codemirror_mode": {
    "name": "ipython",
    "version": 3
   },
   "file_extension": ".py",
   "mimetype": "text/x-python",
   "name": "python",
   "nbconvert_exporter": "python",
   "pygments_lexer": "ipython3",
   "version": "3.10.9"
  }
 },
 "nbformat": 4,
 "nbformat_minor": 5
}
