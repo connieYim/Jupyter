{
 "cells": [
  {
   "cell_type": "code",
   "execution_count": 1,
   "id": "ecb929a1-0e47-4260-8f94-c6978e8bca3a",
   "metadata": {},
   "outputs": [],
   "source": [
    "from selenium import webdriver\n",
    "from selenium.webdriver.common.by import By\n",
    "import time\n",
    "import requests\n",
    "from bs4 import BeautifulSoup"
   ]
  },
  {
   "cell_type": "code",
   "execution_count": 2,
   "id": "da53dfe6-6ef6-48bf-829f-30e5c2f3566c",
   "metadata": {},
   "outputs": [],
   "source": [
    "browser= webdriver.Chrome()\n",
    "browser.maximize_window()\n",
    "\n",
    "# 창꺼짐 방지\n",
    "from selenium.webdriver.chrome.options import Options\n",
    "chrome_options = Options()\n",
    "chrome_options.add_experimental_option(\"detach\", True)\n",
    "browser = webdriver.Chrome(options=chrome_options)\n"
   ]
  },
  {
   "cell_type": "code",
   "execution_count": 3,
   "id": "a06c9ee6-d72c-4b25-b9f1-54be1a4ca429",
   "metadata": {},
   "outputs": [],
   "source": [
    "# 웹페이지 해당 주소 이동\n",
    "url='https://play.google.com/store/movies'\n",
    "# headers ={\"User-Agent\":\"Mozilla/5.0 (Windows NT 10.0; Win64; x64) AppleWebKit/537.36 (KHTML, like Gecko) Chrome/120.0.0.0 Safari/537.36\"\n",
    "#           ,\"Accept-Language\":\"ko-KR,ko\"}\n",
    "#페이지 이동\n",
    "browser.get(url)\n"
   ]
  },
  {
   "cell_type": "code",
   "execution_count": 4,
   "id": "3c4efa86-4399-44ed-8ecc-9e146e69a4b1",
   "metadata": {},
   "outputs": [
    {
     "name": "stdout",
     "output_type": "stream",
     "text": [
      "스크롤 완료\n"
     ]
    }
   ],
   "source": [
    "#스크롤 패턴 얻기(옆으로 단추 누르면서 진행)\n",
    "\n",
    "more_button =browser.find_element(By.XPATH,'//*[@id=\"yDmH0d\"]/c-wiz[2]/div/div/div[2]/c-wiz/div/c-wiz/c-wiz[1]/c-wiz/section/div/div/div/div/div/div[2]/button')\n",
    "browser.execute_script(\"arguments[0].click();\", more_button)\n",
    "time.sleep(2)\n",
    "\n",
    "# 이동거리 저장\n",
    "prev_width = browser.execute_script(\"return document.body.scrollWidth\")\n",
    "while True:\n",
    "    browser.execute_script(\"arguments[0].click();\", more_button)\n",
    "    time.sleep(3)\n",
    "\n",
    "    current_width = browser.execute_script(\"return document.body.scrollWidth\")\n",
    "    if current_width == prev_width:\n",
    "        break\n",
    "    prev_width = current_width\n",
    "print(\"스크롤 완료\") "
   ]
  },
  {
   "cell_type": "code",
   "execution_count": 5,
   "id": "a7118906-6b0d-4695-9646-733507c700e0",
   "metadata": {},
   "outputs": [
    {
     "name": "stdout",
     "output_type": "stream",
     "text": [
      "더 마블스\n",
      "나폴레옹  Napoleon\n",
      "프레디의 피자가게\n",
      "아쿠아맨과 로스트 킹덤 (Aquaman and The Lost Kingdom)\n",
      "로빈후드\n",
      "어벤저\n",
      "일 부코\n",
      "말하고 싶은 비밀\n",
      "피난처\n",
      "타이치2 히어로\n",
      "폭력의 근원\n",
      "오디션\n",
      "하드 로맨티커\n",
      "사랑엔 정의가 없다\n",
      "껍질과 알맹이\n",
      "차례의 정석\n",
      "97분\n",
      "에머스트 최후의전투\n",
      "태권 파이터\n",
      "머릿속을\n",
      "매드 마더\n",
      "혐오의 스타\n",
      "그래 가끔 하늘을 보자\n",
      "컨저링: 귀신의 집\n",
      "킹덤3: 운명의 불꽃\n",
      "무티 : 주술 살인\n",
      "나를 찾아줘: 잃어버린 32주\n",
      "부부의 세계: 잊혀진 욕망\n",
      "매니지\n",
      "탕진\n",
      "라스트 히어로즈\n",
      "다은\n",
      "혈묘\n",
      "클레오의 세계\n",
      "당신도 주성치를 좋아하시나요\n",
      "좋은친구들\n",
      "신세계로부터\n",
      "서치: 데스게임\n",
      "폴리스 스파이\n",
      "뜸부기 새벽에 날다\n",
      "넷플릭스 VS 월드\n",
      "키드냅 시티\n",
      "태\n",
      "꼬리\n",
      "킬힘: 더리벤지\n",
      "너와 나\n",
      "아빠는 악당 챔피언\n",
      "물비늘\n",
      "논스톱\n",
      "브리짓 존스의 베이비\n",
      "쏘우 X\n",
      "초속 5센티미터\n",
      "미스터 노바디(감독판)\n",
      "나폴리: 위험한 유혹\n",
      "은밀한 수업\n",
      "디셈버\n",
      "드럭 헌팅: 마약과의 전쟁\n",
      "천하영웅\n",
      "구름의 저편, 약속의 장소\n",
      "별을 쫓는 아이: 아가르타의 전설\n",
      "별의 목소리\n",
      "범죄도시: 나쁜 놈들 전성 시대\n",
      "바이미\n",
      "365일: 비밀의 여자\n",
      "타이타닉 666\n",
      "사모님의 유혹\n",
      "간신의 피\n",
      "아마존: 더 비기닝\n",
      "괴발 유미광\n",
      "르네에게\n",
      "오펜하이머\n",
      "더 이퀄라이저 3    The Equalizer 3\n",
      "존 윅 4\n",
      "던전 앤 드래곤: 도적들의 명예\n",
      "미션 임파서블: 데드 레코닝 PART ONE\n",
      "바비\n",
      "나폴레옹  Napoleon\n",
      "더 마블스\n",
      "프레디의 피자가게\n",
      "해리포터와 마법사의 돌\n",
      "헝거게임: 노래하는 새와 뱀의 발라드\n",
      "쏘우 X\n",
      "듄\n",
      "스파이더맨: 어크로스 더 유니버스  Spider-Man: Across The Spider-verse\n",
      "스즈메의 문단속\n",
      "해리포터와 비밀의방\n",
      "스파이더맨: 노 웨이 홈 Spider-Man: No Way Home\n",
      "트랜스포머: 비스트의 서막\n",
      "플라워 킬링 문 Killers Of The Flower Moon\n",
      "탑건 매버릭\n"
     ]
    },
    {
     "ename": "AttributeError",
     "evalue": "'NoneType' object has no attribute 'get_text'",
     "output_type": "error",
     "traceback": [
      "\u001b[1;31m---------------------------------------------------------------------------\u001b[0m",
      "\u001b[1;31mAttributeError\u001b[0m                            Traceback (most recent call last)",
      "Cell \u001b[1;32mIn[5], line 7\u001b[0m\n\u001b[0;32m      3\u001b[0m movies\u001b[38;5;241m=\u001b[39m soup\u001b[38;5;241m.\u001b[39mfind_all(\u001b[38;5;124m\"\u001b[39m\u001b[38;5;124mdiv\u001b[39m\u001b[38;5;124m\"\u001b[39m,attrs\u001b[38;5;241m=\u001b[39m{\u001b[38;5;124m\"\u001b[39m\u001b[38;5;124mclass\u001b[39m\u001b[38;5;124m\"\u001b[39m:\u001b[38;5;124m\"\u001b[39m\u001b[38;5;124mULeU3b neq64b\u001b[39m\u001b[38;5;124m\"\u001b[39m})\n\u001b[0;32m      5\u001b[0m \u001b[38;5;28;01mfor\u001b[39;00m movie \u001b[38;5;129;01min\u001b[39;00m movies:\n\u001b[1;32m----> 7\u001b[0m     title \u001b[38;5;241m=\u001b[39m \u001b[43mmovie\u001b[49m\u001b[38;5;241;43m.\u001b[39;49m\u001b[43mfind\u001b[49m\u001b[43m(\u001b[49m\u001b[38;5;124;43m\"\u001b[39;49m\u001b[38;5;124;43mdiv\u001b[39;49m\u001b[38;5;124;43m\"\u001b[39;49m\u001b[43m,\u001b[49m\u001b[43mattrs\u001b[49m\u001b[38;5;241;43m=\u001b[39;49m\u001b[43m{\u001b[49m\u001b[38;5;124;43m\"\u001b[39;49m\u001b[38;5;124;43mclass\u001b[39;49m\u001b[38;5;124;43m\"\u001b[39;49m\u001b[43m:\u001b[49m\u001b[38;5;124;43m\"\u001b[39;49m\u001b[38;5;124;43mEpkrse\u001b[39;49m\u001b[38;5;124;43m\"\u001b[39;49m\u001b[43m}\u001b[49m\u001b[43m)\u001b[49m\u001b[38;5;241;43m.\u001b[39;49m\u001b[43mget_text\u001b[49m()\n\u001b[0;32m      8\u001b[0m     \u001b[38;5;28mprint\u001b[39m(title)\n",
      "\u001b[1;31mAttributeError\u001b[0m: 'NoneType' object has no attribute 'get_text'"
     ]
    }
   ],
   "source": [
    "soup=BeautifulSoup(browser.page_source,\"lxml\")\n",
    "\n",
    "movies= soup.find_all(\"div\",attrs={\"class\":\"ULeU3b neq64b\"})\n",
    "    \n",
    "for movie in movies:\n",
    " \n",
    "    title = movie.find(\"div\",attrs={\"class\":\"Epkrse\"}).get_text()\n",
    "    print(title) "
   ]
  },
  {
   "cell_type": "code",
   "execution_count": null,
   "id": "5efc23a7-f8ac-4181-a0c2-9b769bb44962",
   "metadata": {},
   "outputs": [],
   "source": []
  },
  {
   "cell_type": "code",
   "execution_count": null,
   "id": "c9d745e9-5fab-482a-8e5b-eaebe90c8e29",
   "metadata": {},
   "outputs": [],
   "source": []
  },
  {
   "cell_type": "code",
   "execution_count": null,
   "id": "995eaf97-81ed-4897-910f-123076c20c9c",
   "metadata": {},
   "outputs": [],
   "source": []
  },
  {
   "cell_type": "code",
   "execution_count": null,
   "id": "461d23d8-6156-4fca-bfaf-e31e3902b3ca",
   "metadata": {},
   "outputs": [],
   "source": []
  },
  {
   "cell_type": "code",
   "execution_count": null,
   "id": "5036e9e4-b693-4e0e-bcef-031aa4480cad",
   "metadata": {},
   "outputs": [],
   "source": []
  }
 ],
 "metadata": {
  "kernelspec": {
   "display_name": "Python 3 (ipykernel)",
   "language": "python",
   "name": "python3"
  },
  "language_info": {
   "codemirror_mode": {
    "name": "ipython",
    "version": 3
   },
   "file_extension": ".py",
   "mimetype": "text/x-python",
   "name": "python",
   "nbconvert_exporter": "python",
   "pygments_lexer": "ipython3",
   "version": "3.9.18"
  }
 },
 "nbformat": 4,
 "nbformat_minor": 5
}
