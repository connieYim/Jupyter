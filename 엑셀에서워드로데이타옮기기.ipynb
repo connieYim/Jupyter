{
 "cells": [
  {
   "cell_type": "code",
   "execution_count": null,
   "id": "eea52b6d-42f5-4a33-8437-d7053ba1676e",
   "metadata": {},
   "outputs": [],
   "source": [
    "import os\n",
    "import openpyxl\n",
    "from docx import Document\n",
    "import warnings\n",
    "\n",
    "# 경고 무시\n",
    "warnings.filterwarnings(\"ignore\", category=UserWarning, module=\"numpy\")\n",
    "\n",
    "def copy_excel_to_word(excel_filename, sheet_name, word_filename):\n",
    "    # 엑셀 파일 열기\n",
    "    wb = openpyxl.load_workbook(excel_filename)\n",
    "    \n",
    "    # 시트 선택\n",
    "    sheet = wb[sheet_name]\n",
    "    \n",
    "    # 워드 문서 생성\n",
    "    doc = Document()\n",
    "    \n",
    "    # 각 셀의 내용을 워드 문서에 추가\n",
    "    for row in sheet.iter_rows():\n",
    "        for cell in row:\n",
    "            doc.add_paragraph(str(cell.value))\n",
    "    \n",
    "    # 워드 파일 저장\n",
    "    doc.save(word_filename)\n",
    "\n",
    "# 사용자 이름 확인\n",
    "user_name = os.getlogin()\n",
    "\n",
    "# 바탕화면 경로 생성\n",
    "desktop_path = os.path.join('C:\\\\', 'Users', user_name, 'Desktop')\n",
    "\n",
    "# 파일 경로 지정\n",
    "excel_filename = 'e.xlsx'  # 실제 파일 이름으로 변경\n",
    "word_filename = 'buss.docx'\n",
    "\n",
    "# 전체 경로 생성\n",
    "excel_filepath = os.path.join(desktop_path, excel_filename)\n",
    "word_filepath = os.path.join(desktop_path, word_filename)\n",
    "\n",
    "# 시트 이름 설정\n",
    "sheet_name = '1'  # 원하는 시트 이름으로 변경\n",
    "\n",
    "# 나머지 코드 실행\n",
    "copy_excel_to_word(excel_filepath, sheet_name, word_filepath)\n"
   ]
  }
 ],
 "metadata": {
  "kernelspec": {
   "display_name": "Python 3 (ipykernel)",
   "language": "python",
   "name": "python3"
  },
  "language_info": {
   "codemirror_mode": {
    "name": "ipython",
    "version": 3
   },
   "file_extension": ".py",
   "mimetype": "text/x-python",
   "name": "python",
   "nbconvert_exporter": "python",
   "pygments_lexer": "ipython3",
   "version": "3.8.17"
  }
 },
 "nbformat": 4,
 "nbformat_minor": 5
}
