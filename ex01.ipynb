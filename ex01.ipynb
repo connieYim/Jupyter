{
 "cells": [
  {
   "cell_type": "markdown",
   "id": "c26b83bc",
   "metadata": {},
   "source": [
    "# 마크다운\n",
    "## 마크다운\n",
    "### 마크다운\n",
    "#### 마크다운\n",
    "##### 마크다운\n",
    "\n",
    "- code 모드 : y\n",
    "- markdown 모드 : m\n",
    "\n",
    "- b : 셀을 아래로 추가\n",
    "- a : 셀을 위로 추가\n",
    "- dd : 셀 삭제\n",
    "- Ctrl  + enter : 셀 실행\n",
    "- Shift + enter : 셀 실행 + 새로운 셀을 아래로 생성함\n",
    "\n",
    "- 항목\n",
    "  - 항목\n",
    "    - 항목\n",
    "      - 항목"
   ]
  },
  {
   "cell_type": "code",
   "execution_count": 4,
   "id": "ca593b28",
   "metadata": {},
   "outputs": [
    {
     "name": "stdout",
     "output_type": "stream",
     "text": [
      "name    : 더조은\n",
      "age     : 21\n",
      "height  : 182\n",
      "weight  : 73\n",
      "address : 서울시 종로구\n",
      "university\n",
      "종로대학교\n",
      "hobby\n",
      "reading\n"
     ]
    }
   ],
   "source": [
    "# 한 줄 주석\n",
    "'''\n",
    "여러 줄 \n",
    "주석\n",
    "입니다\n",
    "'''\n",
    "\n",
    "'''\n",
    "따옴표 속에 있는 부분 : \n",
    "        문자열 <-- string\n",
    "'''\n",
    "\"\"\"\n",
    "문자열은\n",
    "큰따옴표 작은따옴표 \n",
    "모두 사용 가능함\n",
    "\"\"\"\n",
    "\n",
    "'''\n",
    "할당(assignment) : 저장 / 연결\n",
    " = : 할당연산자\n",
    " \n",
    " 이름표(변수)\n",
    "  name  variable\n",
    "\n",
    "'''\n",
    "\n",
    "name = '더조은'\n",
    "age = '21'\n",
    "height = 182\n",
    "weight = 73\n",
    "address = \"서울시 종로구\"\n",
    "\n",
    "print('name    :',name)\n",
    "print('age     :',age)\n",
    "print('height  :',height)\n",
    "print('weight  :',weight)\n",
    "print('address :',address)\n",
    "\n",
    "\n",
    "'''\n",
    "이름표는 data 하고 연결되어야\n",
    "메모리에 올라감\n",
    "'''\n",
    "hobby = 'reading'\n",
    "university = '종로대학교'\n",
    "\n",
    "print('university')\n",
    "print(university)\n",
    "print('hobby')\n",
    "print(hobby)"
   ]
  },
  {
   "cell_type": "code",
   "execution_count": 8,
   "id": "76364eec",
   "metadata": {},
   "outputs": [
    {
     "name": "stdout",
     "output_type": "stream",
     "text": [
      "result : 30\n",
      "result : 30\n"
     ]
    }
   ],
   "source": [
    "number1 = 10\n",
    "number2 = 20\n",
    "result = number1 + number2\n",
    "print('result :',result)\n",
    "\n",
    "# 문자열에서 + 연산자 : 연결연산자\n",
    "print('result : ' + str(result))"
   ]
  },
  {
   "cell_type": "code",
   "execution_count": null,
   "id": "b5e2d349",
   "metadata": {},
   "outputs": [],
   "source": []
  },
  {
   "cell_type": "code",
   "execution_count": null,
   "id": "128a301d",
   "metadata": {},
   "outputs": [],
   "source": []
  },
  {
   "cell_type": "code",
   "execution_count": null,
   "id": "ca0c4265",
   "metadata": {},
   "outputs": [],
   "source": []
  },
  {
   "cell_type": "code",
   "execution_count": null,
   "id": "d3eae258",
   "metadata": {},
   "outputs": [],
   "source": []
  }
 ],
 "metadata": {
  "kernelspec": {
   "display_name": "Python 3 (ipykernel)",
   "language": "python",
   "name": "python3"
  },
  "language_info": {
   "codemirror_mode": {
    "name": "ipython",
    "version": 3
   },
   "file_extension": ".py",
   "mimetype": "text/x-python",
   "name": "python",
   "nbconvert_exporter": "python",
   "pygments_lexer": "ipython3",
   "version": "3.10.9"
  }
 },
 "nbformat": 4,
 "nbformat_minor": 5
}
