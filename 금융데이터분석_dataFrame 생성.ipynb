{
 "cells": [
  {
   "cell_type": "code",
   "execution_count": null,
   "id": "5b52d568",
   "metadata": {
    "scrolled": false
   },
   "outputs": [],
   "source": [
    "import pandas as pd\n",
    "import numpy as np\n",
    "\n",
    "krx_df = pd.read_csv('KRX.csv', index_col=0, encoding='cp949')\n",
    "krx_df.shape"
   ]
  },
  {
   "cell_type": "code",
   "execution_count": null,
   "id": "331a81ec",
   "metadata": {
    "scrolled": false
   },
   "outputs": [],
   "source": [
    "krx_df.columns\n",
    "krx_df.drop('Unnamed: 11', axis=1, inplace=True)"
   ]
  },
  {
   "cell_type": "code",
   "execution_count": null,
   "id": "7b0b1ebc",
   "metadata": {
    "scrolled": false
   },
   "outputs": [],
   "source": [
    "krx_df[:10]"
   ]
  },
  {
   "cell_type": "code",
   "execution_count": null,
   "id": "0ffc92af",
   "metadata": {
    "scrolled": false
   },
   "outputs": [],
   "source": [
    "print(krx_df['Sector'].values)"
   ]
  },
  {
   "cell_type": "code",
   "execution_count": null,
   "id": "8bd65cbb",
   "metadata": {
    "scrolled": false
   },
   "outputs": [],
   "source": [
    "print(krx_df['Sector'].unique())"
   ]
  },
  {
   "cell_type": "code",
   "execution_count": null,
   "id": "0bfc7040",
   "metadata": {
    "scrolled": false
   },
   "outputs": [],
   "source": [
    "print(krx_df['Sector'].count())"
   ]
  },
  {
   "cell_type": "code",
   "execution_count": null,
   "id": "f97b3ade",
   "metadata": {
    "scrolled": false
   },
   "outputs": [],
   "source": [
    "pd.set_option('display.max_rows', 200)"
   ]
  },
  {
   "cell_type": "code",
   "execution_count": null,
   "id": "f5ced4f0",
   "metadata": {
    "scrolled": false
   },
   "outputs": [],
   "source": [
    "print(krx_df['Sector'].value_counts())"
   ]
  },
  {
   "cell_type": "code",
   "execution_count": null,
   "id": "89116655",
   "metadata": {
    "scrolled": false
   },
   "outputs": [],
   "source": [
    "krx_df[krx_df['Sector'] == '석유 정제품 제조업']"
   ]
  },
  {
   "cell_type": "code",
   "execution_count": null,
   "id": "2769440a",
   "metadata": {
    "scrolled": false
   },
   "outputs": [],
   "source": [
    "'''\n",
    "group_by()\n",
    "'''\n",
    "\n",
    "ex_df = pd.read_excel('groupby_example.xlsx', header=6)\n",
    "ex_df.shape"
   ]
  },
  {
   "cell_type": "code",
   "execution_count": null,
   "id": "7f383b15",
   "metadata": {
    "scrolled": false
   },
   "outputs": [],
   "source": [
    "ex_df"
   ]
  },
  {
   "cell_type": "code",
   "execution_count": null,
   "id": "32bea63d",
   "metadata": {
    "scrolled": false
   },
   "outputs": [],
   "source": [
    "ex_df = ex_df.dropna(axis=1)"
   ]
  },
  {
   "cell_type": "code",
   "execution_count": null,
   "id": "2e0d98d1",
   "metadata": {
    "scrolled": false
   },
   "outputs": [],
   "source": [
    "# column 이름 지정하기(변경할 때도 활용함)\n",
    "ex_df.columns = ['기업', 'Sector', 'PER']"
   ]
  },
  {
   "cell_type": "code",
   "execution_count": null,
   "id": "77ef39f7",
   "metadata": {
    "scrolled": false
   },
   "outputs": [],
   "source": [
    "ex_df[:3]"
   ]
  },
  {
   "cell_type": "code",
   "execution_count": null,
   "id": "2b556399",
   "metadata": {
    "scrolled": false
   },
   "outputs": [],
   "source": [
    "'''\n",
    "'기업' 컬럼을 index 로 하고, column 은 Sector 와 PER 만 남기기\n",
    "'''\n",
    "ex_df.index = ex_df['기업']"
   ]
  },
  {
   "cell_type": "code",
   "execution_count": null,
   "id": "6c04d163",
   "metadata": {
    "scrolled": false
   },
   "outputs": [],
   "source": [
    "'''\n",
    "'기업' 컬럼 삭제하기\n",
    "\n",
    "inplace=False 가 기본값이라서 \n",
    "변형한 내용을 원본(원본과 연결된 변수)에 할당해야 \n",
    "원본과 연결되었던 변수로 변형된 형태를 사용할 수 있음\n",
    "'''\n",
    "ex_df = ex_df.drop('기업', axis=1)"
   ]
  },
  {
   "cell_type": "code",
   "execution_count": null,
   "id": "d3baa3bf",
   "metadata": {
    "scrolled": false
   },
   "outputs": [],
   "source": [
    "ex_df[:3]"
   ]
  },
  {
   "cell_type": "code",
   "execution_count": null,
   "id": "f96d82d7",
   "metadata": {
    "scrolled": false
   },
   "outputs": [],
   "source": [
    "'''\n",
    "groupby() 기준 컬럼을 index 로 하는 \n",
    "DataFrame 을 생성함\n",
    "'''\n",
    "ex_df.groupby(['Sector']).mean()"
   ]
  },
  {
   "cell_type": "code",
   "execution_count": null,
   "id": "29600950",
   "metadata": {
    "scrolled": false
   },
   "outputs": [],
   "source": [
    "'''\n",
    "Sector 가 화학인 기업의 평균 PER 값 구하기\n",
    "'''\n",
    "chemical_mean = ex_df.groupby('Sector').mean().loc['화학']\n",
    "\n",
    "# Series\n",
    "chemical_mean\n",
    "\n",
    "# ndarray\n",
    "chemical_mean.values\n",
    "\n",
    "# 실제 평균값\n",
    "np.round(chemical_mean.values[0], 4)"
   ]
  },
  {
   "cell_type": "code",
   "execution_count": null,
   "id": "048557e6",
   "metadata": {
    "scrolled": true
   },
   "outputs": [],
   "source": [
    "'''\n",
    "ex_df 에서 Sector 가 화학인 기업만 \n",
    "DataFrame 으로 추출하기\n",
    "'''\n",
    "ex_df[ex_df['Sector'] == '화학']['Sector']\n",
    "ex_df[ex_df['Sector'] == '화학']['PER']\n",
    "ex_df[ex_df['Sector'] == '화학'][['Sector','PER']]\n",
    "ex_df[ex_df['Sector'] == '화학']"
   ]
  },
  {
   "cell_type": "code",
   "execution_count": null,
   "id": "4075142c",
   "metadata": {
    "scrolled": true
   },
   "outputs": [],
   "source": [
    "'''\n",
    "ex_df 에서 Sector 가 화학인 기업 중에서 \n",
    "PER 가 평균 이하인 기업만\n",
    "DataFrame 으로 추출하기\n",
    " ㄴ PER 가 평균 이하인 기업은 1\n",
    "    PER 가 평균 초과인 기업은 np.nan 으로 하는\n",
    "    컬럼 'Condition' 추가하기\n",
    "    \n",
    "    np.where(조건, 참일때값, 거짓일때값)\n",
    "'''\n",
    "ex_df['Condition'] = np.where(ex_df['PER'] <= chemical_mean.values[0], 1, np.nan)"
   ]
  },
  {
   "cell_type": "code",
   "execution_count": null,
   "id": "94ded150",
   "metadata": {
    "scrolled": true
   },
   "outputs": [],
   "source": [
    "ex_df[ex_df['Sector']=='화학']"
   ]
  },
  {
   "cell_type": "code",
   "execution_count": 55,
   "id": "2f0b2a6b",
   "metadata": {
    "scrolled": true
   },
   "outputs": [
    {
     "data": {
      "text/html": [
       "<div>\n",
       "<style scoped>\n",
       "    .dataframe tbody tr th:only-of-type {\n",
       "        vertical-align: middle;\n",
       "    }\n",
       "\n",
       "    .dataframe tbody tr th {\n",
       "        vertical-align: top;\n",
       "    }\n",
       "\n",
       "    .dataframe thead th {\n",
       "        text-align: right;\n",
       "    }\n",
       "</style>\n",
       "<table border=\"1\" class=\"dataframe\">\n",
       "  <thead>\n",
       "    <tr style=\"text-align: right;\">\n",
       "      <th></th>\n",
       "      <th>Sector</th>\n",
       "      <th>PER</th>\n",
       "      <th>Condition</th>\n",
       "    </tr>\n",
       "    <tr>\n",
       "      <th>기업</th>\n",
       "      <th></th>\n",
       "      <th></th>\n",
       "      <th></th>\n",
       "    </tr>\n",
       "  </thead>\n",
       "  <tbody>\n",
       "    <tr>\n",
       "      <th>기업3</th>\n",
       "      <td>화학</td>\n",
       "      <td>0.5</td>\n",
       "      <td>1.0</td>\n",
       "    </tr>\n",
       "    <tr>\n",
       "      <th>기업20</th>\n",
       "      <td>화학</td>\n",
       "      <td>0.4</td>\n",
       "      <td>1.0</td>\n",
       "    </tr>\n",
       "    <tr>\n",
       "      <th>기업24</th>\n",
       "      <td>화학</td>\n",
       "      <td>0.6</td>\n",
       "      <td>1.0</td>\n",
       "    </tr>\n",
       "  </tbody>\n",
       "</table>\n",
       "</div>"
      ],
      "text/plain": [
       "     Sector  PER  Condition\n",
       "기업                         \n",
       "기업3      화학  0.5        1.0\n",
       "기업20     화학  0.4        1.0\n",
       "기업24     화학  0.6        1.0"
      ]
     },
     "execution_count": 55,
     "metadata": {},
     "output_type": "execute_result"
    }
   ],
   "source": [
    "'''\n",
    "ex_df 에서 Sector 가 화학인 기업 중에서 \n",
    "PER 가 평균 이하인 기업만 DataFrame 으로 추출하기\n",
    "'''\n",
    "ex_df[ex_df['Sector']=='화학'].dropna()"
   ]
  }
 ],
 "metadata": {
  "kernelspec": {
   "display_name": "Python 3 (ipykernel)",
   "language": "python",
   "name": "python3"
  },
  "language_info": {
   "codemirror_mode": {
    "name": "ipython",
    "version": 3
   },
   "file_extension": ".py",
   "mimetype": "text/x-python",
   "name": "python",
   "nbconvert_exporter": "python",
   "pygments_lexer": "ipython3",
   "version": "3.10.9"
  }
 },
 "nbformat": 4,
 "nbformat_minor": 5
}
