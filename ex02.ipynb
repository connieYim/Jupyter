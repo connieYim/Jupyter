{
 "cells": [
  {
   "cell_type": "code",
   "execution_count": null,
   "id": "5f8af939",
   "metadata": {},
   "outputs": [],
   "source": [
    "'''\n",
    "데이터의 형태\n",
    " data    type\n",
    " 자료    형태  <-- 자료형\n",
    " \n",
    " type\n",
    " 형(태)\n",
    " \n",
    "  문자열 : string <-- str\n",
    "  숫자 : 정수    / 실수\n",
    "         Integer   Real Number   \n",
    "         int       float  <--  floating point\n",
    "  논리형 자료형 : boolean <-- bool       \n",
    "'''"
   ]
  },
  {
   "cell_type": "code",
   "execution_count": null,
   "id": "a9fa06e5",
   "metadata": {},
   "outputs": [],
   "source": [
    "'''\n",
    "8진수 숫자0 + 알파벳(O(o)) + 숫자\n",
    "                     octal\n",
    "'''\n",
    "number_8 = 0o214\n",
    "print('number_8 :',number_8)\n",
    "\n",
    "'''\n",
    "16진수 숫자0 + 알파벳(X(x)) + 숫자\n",
    "                      hexadecimal\n",
    "'''\n",
    "number_16 = 0x23\n",
    "print('number_16 ;',number_16)\n",
    "\n",
    "'''\n",
    "2진수 숫자0 + 알파벳(B(b)) + 숫자\n",
    "                      binary\n",
    "'''\n",
    "number_2 = 0b100\n",
    "print('number_2 :',number_2)"
   ]
  },
  {
   "cell_type": "code",
   "execution_count": 5,
   "id": "d5f118fc",
   "metadata": {},
   "outputs": [
    {
     "name": "stdout",
     "output_type": "stream",
     "text": [
      "우리 학원은 더조은 학원입니다\n",
      "우리 학원은 더조은 학원입니다\n"
     ]
    }
   ],
   "source": [
    "'''\n",
    "문자열 (string - str)\n",
    "\n",
    "우리 학원은 더조은 학원입니다\n",
    "'''\n",
    "print('우리 학원은 더조은 학원입니다')\n",
    "print(\"우리 학원은 더조은 학원입니다\")"
   ]
  },
  {
   "cell_type": "code",
   "execution_count": 8,
   "id": "acadd7ab",
   "metadata": {},
   "outputs": [
    {
     "name": "stdout",
     "output_type": "stream",
     "text": [
      "우리 학원은 '더조은' 학원입니다\n",
      "우리 학원은 '더조은' 학원입니다\n"
     ]
    }
   ],
   "source": [
    "# 우리 학원은 '더조은' 학원입니다\n",
    "print('우리 학원은 \\'더조은\\' 학원입니다')\n",
    "print(\"우리 학원은 '더조은' 학원입니다\")"
   ]
  },
  {
   "cell_type": "code",
   "execution_count": 10,
   "id": "063e98a7",
   "metadata": {},
   "outputs": [
    {
     "name": "stdout",
     "output_type": "stream",
     "text": [
      "우리 학원은 \"더조은\" 학원입니다\n",
      "우리 학원은 \"더조은\" 학원입니다\n"
     ]
    }
   ],
   "source": [
    "# 우리 학원은 \"더조은\" 학원입니다\n",
    "print(\"우리 학원은 \\\"더조은\\\" 학원입니다\")\n",
    "print('우리 학원은 \"더조은\" 학원입니다')"
   ]
  },
  {
   "cell_type": "code",
   "execution_count": 15,
   "id": "2d3ecec1",
   "metadata": {},
   "outputs": [
    {
     "name": "stdout",
     "output_type": "stream",
     "text": [
      "우리 학원은 \n",
      "더조은 \n",
      "학원입니다\n",
      "우리 학원은 \n",
      "더조은 \n",
      "학원입니다\n",
      "공백 문자열 :  \n",
      "공백 문자열 :   \n",
      "공백 문자열 :    \n",
      "공백 문자열 :     \n",
      "빈문자열 : \n"
     ]
    }
   ],
   "source": [
    "'''\n",
    "우리 학원은 \n",
    "더조은 \n",
    "학원입니다\n",
    "\n",
    "\\n : 줄바꿈문자(개행문자)\n",
    "'''\n",
    "print('우리 학원은 \\n더조은 \\n학원입니다')\n",
    "print('''우리 학원은 \n",
    "더조은 \n",
    "학원입니다''')\n",
    "\n",
    "print('공백 문자열 :', ' ')\n",
    "print('공백 문자열 :', '  ')\n",
    "print('공백 문자열 :', '   ')\n",
    "print('공백 문자열 :', '    ')\n",
    "\n",
    "print('빈문자열 :','')"
   ]
  },
  {
   "cell_type": "code",
   "execution_count": 20,
   "id": "b9cc4db1",
   "metadata": {},
   "outputs": [
    {
     "name": "stdout",
     "output_type": "stream",
     "text": [
      "이름 : 이순신, 나이 : 46 세\n",
      "이름 : 이순신 , 나이 : 46 세\n",
      "이름 : 이순신, 나이 : 46 세\n"
     ]
    }
   ],
   "source": [
    "'''\n",
    "이름 : 이순신, 나이 : 46 세\n",
    "'''\n",
    "print('이름 : 이순신, 나이 : 46 세')\n",
    "\n",
    "name = '이순신'\n",
    "age  = 46\n",
    "\n",
    "print('이름 :',name,', 나이 :',age,'세')\n",
    "print('이름 : ' + name + ', 나이 : ' + str(age) + ' 세')"
   ]
  },
  {
   "cell_type": "code",
   "execution_count": 24,
   "id": "49988726",
   "metadata": {},
   "outputs": [
    {
     "name": "stdout",
     "output_type": "stream",
     "text": [
      "이름 : 이순신 , 나이 : 46 세\n",
      "이름 : 이순신 , 나이 : 46 세\n",
      "이름 : 이순신 , 나이 : 46 세\n"
     ]
    }
   ],
   "source": [
    "print('이름 :',name,', 나이 :',age,'세')\n",
    "print('이름 :',name,', 나이 :',age,'세',sep=' ')\n",
    "print('이름 : ',name,' , 나이 : ',age,' 세',sep='')"
   ]
  },
  {
   "cell_type": "code",
   "execution_count": 28,
   "id": "ff9b9a34",
   "metadata": {},
   "outputs": [
    {
     "name": "stdout",
     "output_type": "stream",
     "text": [
      "더조은\n",
      "아이티 아카데미, 학원\n"
     ]
    }
   ],
   "source": [
    "print('더조은')\n",
    "print('아이티',end=' ')\n",
    "print('아카데미', end=', ')\n",
    "print('학원')"
   ]
  },
  {
   "cell_type": "code",
   "execution_count": null,
   "id": "b39764cd",
   "metadata": {},
   "outputs": [],
   "source": []
  }
 ],
 "metadata": {
  "kernelspec": {
   "display_name": "Python 3 (ipykernel)",
   "language": "python",
   "name": "python3"
  },
  "language_info": {
   "codemirror_mode": {
    "name": "ipython",
    "version": 3
   },
   "file_extension": ".py",
   "mimetype": "text/x-python",
   "name": "python",
   "nbconvert_exporter": "python",
   "pygments_lexer": "ipython3",
   "version": "3.10.9"
  }
 },
 "nbformat": 4,
 "nbformat_minor": 5
}
